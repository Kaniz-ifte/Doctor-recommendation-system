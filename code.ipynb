import cv2
import numpy as np
import glob as gb
import matplotlib.pyplot as plt
import pandas as pd 
import psycopg2 as ps
%matplotlib inline
import os
import seaborn as sns
from sklearn import metrics 
from sklearn.model_selection import train_test_split

from sklearn.cluster import KMeans
from sklearn.neighbors import KNeighborsClassifier
from sklearn import linear_model
from sklearn.linear_model import LogisticRegression
from sklearn.linear_model import LinearRegression
from sklearn.ensemble import RandomForestClassifier
from sklearn.linear_model import Perceptron
from sklearn.linear_model import SGDClassifier
from sklearn.tree import DecisionTreeClassifier
from sklearn.svm import SVC, LinearSVC
from sklearn.naive_bayes import GaussianNB

from google.colab import files



# xlrd is needed to load excel files
!pip install xlrd
!pip install psycopg2
!pip install pymysql


#retrieve uploaded file
uploaded = files.upload()
#print results
for fn in uploaded.keys():
  print('User uploaded file "{name}" with length {length} bytes'.format(
      name=fn, length=len(uploaded[fn])))

column_names = ["Post", "Provider" , "Division", "District", "Upazila","Facility", "ProfessionalDis" , "ContactNo", "Address", "Degree", "Disease" ]

excel_path = "Copy of Doctor-Directory.xlsx"

doctor_data = pd.read_excel(excel_path, header=None, names=column_names) 
#summary_data  = pd.read_excel(excel_path, "Summary", header=None, names=column_names) 


# we need to reset the index to have nice linear indices from 0, 1 to 150
# reset_index() adds a new column called "index" which we drop (explained later)
doctor = pd.concat([doctor_data])

doctor.head(142)

doctor=doctor.dropna(subset=['Disease'])
doctor=doctor.dropna(subset=['ProfessionalDis'])
doctor=doctor.dropna(subset=['Address'])
doctor=doctor.dropna(subset=['Degree'])

doctor

feature = ['Disease','District','Division','Upazila']
X = doctor[feature]
y= doctor['Provider']



X_train, X_test, y_train, y_test = train_test_split(X, y, random_state=0)

#support vector machine

from sklearn.svm import SVC

score_list=[]
svm=SVC(C=5).fit(X_train,y_train)
svm_score = svm.score(X_test,y_test)
score_list.append(svm_score)
svm_score

X= doctor.iloc[:,[0,9]].values

X[1]

from sklearn.preprocessing import LabelEncoder

labelEncoder = LabelEncoder()
labelEncoder.fit(feature)
feature = labelEncoder.transform(feature)

kmeans = KMeans(n_clusters=8, init='k-means++', max_iter=300, n_init=10, random_state=0)
pred_y = kmeans.fit_predict(X_train)

kmeans = KMeans(n_clusters=10)
kmeans.fit(doctor.values)

doctor = doctor.apply(pd.to_numeric)

!pip3 install fuzzywuzzy[speedup]

# fuzz is used to compare TWO strings
from fuzzywuzzy import fuzz

# process is used to compare a string to MULTIPLE other strings
from fuzzywuzzy import process

arr=['Chest_pain','Childhood_disease']

list=[]
global score
for x in arr:
  max=0
  for ind2 in doctor.index:
    score=fuzz.token_set_ratio(x, doctor['Disease'][ind2])
    #list.append(score)
    #for i in list:
    if score>max:
      max=score
      z=ind2
    
  if max>0:
    print(doctor['Disease'][z],"  -->  ",doctor['Provider'][z])
    #print(max)
    list.append(doctor['Provider'][z])

